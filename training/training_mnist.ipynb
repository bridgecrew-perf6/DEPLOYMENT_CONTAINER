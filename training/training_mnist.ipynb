{
 "cells": [
  {
   "cell_type": "code",
   "execution_count": 1,
   "metadata": {},
   "outputs": [],
   "source": [
    "import tensorflow as tf\n",
    "import numpy as np\n",
    "import  matplotlib.pyplot as plt"
   ]
  },
  {
   "cell_type": "code",
   "execution_count": 2,
   "metadata": {},
   "outputs": [
    {
     "name": "stdout",
     "output_type": "stream",
     "text": [
      "Number of original training examples: 60000\n",
      "Number of original test examples: 10000\n"
     ]
    }
   ],
   "source": [
    "(x_train, y_train), (x_test, y_test) = tf.keras.datasets.mnist.load_data()\n",
    "\n",
    "# Rescale the images from [0,255] to the [0.0,1.0] range.\n",
    "x_train, x_test = x_train[..., np.newaxis]/255.0, x_test[..., np.newaxis]/255.0\n",
    "\n",
    "print(\"Number of original training examples:\", len(x_train))\n",
    "print(\"Number of original test examples:\", len(x_test))"
   ]
  },
  {
   "cell_type": "code",
   "execution_count": 24,
   "metadata": {},
   "outputs": [
    {
     "name": "stdout",
     "output_type": "stream",
     "text": [
      "Epoch 1/6\n",
      "1875/1875 [==============================] - 5s 3ms/step - loss: 0.4369 - sparse_categorical_accuracy: 0.8778 - val_loss: 0.1505 - val_sparse_categorical_accuracy: 0.9575\n",
      "Epoch 2/6\n",
      "1875/1875 [==============================] - 4s 2ms/step - loss: 0.1173 - sparse_categorical_accuracy: 0.9671 - val_loss: 0.1124 - val_sparse_categorical_accuracy: 0.9645\n",
      "Epoch 3/6\n",
      "1875/1875 [==============================] - 4s 2ms/step - loss: 0.0796 - sparse_categorical_accuracy: 0.9765 - val_loss: 0.0789 - val_sparse_categorical_accuracy: 0.9760\n",
      "Epoch 4/6\n",
      "1875/1875 [==============================] - 4s 2ms/step - loss: 0.0575 - sparse_categorical_accuracy: 0.9820 - val_loss: 0.0711 - val_sparse_categorical_accuracy: 0.9778\n",
      "Epoch 5/6\n",
      "1875/1875 [==============================] - 4s 2ms/step - loss: 0.0429 - sparse_categorical_accuracy: 0.9867 - val_loss: 0.0828 - val_sparse_categorical_accuracy: 0.9761\n",
      "Epoch 6/6\n",
      "1875/1875 [==============================] - 4s 2ms/step - loss: 0.0345 - sparse_categorical_accuracy: 0.9891 - val_loss: 0.0701 - val_sparse_categorical_accuracy: 0.9790\n"
     ]
    },
    {
     "data": {
      "text/plain": [
       "<tensorflow.python.keras.callbacks.History at 0x7f891c0dc630>"
      ]
     },
     "execution_count": 24,
     "metadata": {},
     "output_type": "execute_result"
    }
   ],
   "source": [
    "model = tf.keras.models.Sequential([\n",
    "  tf.keras.layers.Flatten(input_shape=(28, 28,1)),\n",
    "  tf.keras.layers.Dense(128, activation='relu'),\n",
    "  tf.keras.layers.Dense(10,activation='softmax')\n",
    "])\n",
    "model.compile(\n",
    "    optimizer=tf.keras.optimizers.Adam(0.001),\n",
    "    loss=tf.keras.losses.SparseCategoricalCrossentropy(from_logits=True),\n",
    "    metrics=[tf.keras.metrics.SparseCategoricalAccuracy()],\n",
    ")\n",
    "\n",
    "model.fit(\n",
    "    x_train,y_train,\n",
    "    epochs=6,\n",
    "    validation_data=(x_test,y_test)\n",
    ")"
   ]
  },
  {
   "cell_type": "code",
   "execution_count": 25,
   "metadata": {},
   "outputs": [
    {
     "name": "stdout",
     "output_type": "stream",
     "text": [
      "INFO:tensorflow:Assets written to: mnist/assets\n"
     ]
    }
   ],
   "source": [
    "model.save('mnist')"
   ]
  }
 ],
 "metadata": {
  "interpreter": {
   "hash": "31f2aee4e71d21fbe5cf8b01ff0e069b9275f58929596ceb00d14d90e3e16cd6"
  },
  "kernelspec": {
   "display_name": "Python 3.6.9 64-bit",
   "language": "python",
   "name": "python3"
  },
  "language_info": {
   "codemirror_mode": {
    "name": "ipython",
    "version": 3
   },
   "file_extension": ".py",
   "mimetype": "text/x-python",
   "name": "python",
   "nbconvert_exporter": "python",
   "pygments_lexer": "ipython3",
   "version": "3.6.9"
  },
  "orig_nbformat": 4
 },
 "nbformat": 4,
 "nbformat_minor": 2
}
